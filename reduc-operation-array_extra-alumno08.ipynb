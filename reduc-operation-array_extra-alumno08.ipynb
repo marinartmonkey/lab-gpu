{
 "cells": [
  {
   "cell_type": "code",
   "execution_count": null,
   "id": "8117da9e-4a60-4e14-8f8c-414e2b7294f4",
   "metadata": {},
   "outputs": [],
   "source": [
    "librería multiprocessing"
   ]
  },
  {
   "cell_type": "code",
   "execution_count": 1,
   "id": "f71e2fd8-ff1c-4ed0-8c21-5078c2b238e7",
   "metadata": {},
   "outputs": [
    {
     "name": "stdout",
     "output_type": "stream",
     "text": [
      "Tiempo para la suma secuencial:\n",
      "Duración usando numpy.sum(): 14.3 µs ± 41.8 ns per loop (mean ± std. dev. of 2 runs, 100,000 loops each)\n",
      "Resultado suma secuencial: 25002.375345280336\n",
      "\n",
      "\n",
      "Tiempo para la suma con 1 procesos:\n",
      "Duración usando 1 procesos: 5.69 ms ± 417 µs per loop (mean ± std. dev. of 2 runs, 100 loops each)\n",
      "Resultado suma con 1 procesos: 25002.375345280336\n",
      "\n",
      "Tiempo para la suma con 2 procesos:\n",
      "Duración usando 2 procesos: 6.17 ms ± 1.82 µs per loop (mean ± std. dev. of 2 runs, 100 loops each)\n",
      "Resultado suma con 2 procesos: 25002.375345280336\n",
      "\n",
      "Tiempo para la suma con 4 procesos:\n",
      "Duración usando 4 procesos: 12.8 ms ± 127 µs per loop (mean ± std. dev. of 2 runs, 100 loops each)\n",
      "Resultado suma con 4 procesos: 25002.375345280336\n"
     ]
    }
   ],
   "source": [
    "import numpy as np\n",
    "from multiprocessing import Pool\n",
    "\n",
    "def suma_parcial(arr, inicio, fin):\n",
    "    \"\"\"Realiza la suma de los elementos del arreglo entre las posiciones inicio y fin.\"\"\"\n",
    "    return np.sum(arr[inicio:fin])\n",
    "\n",
    "tamaño_arreglo = 5 * 10**4  # Longitud del arreglo\n",
    "datos = np.random.rand(tamaño_arreglo)  # Generación de datos aleatorios\n",
    "\n",
    "# Ejecución secuencial\n",
    "print(\"Tiempo para la suma secuencial:\")\n",
    "tiempo_secuencial = %timeit -r 2 -o -q np.sum(datos)\n",
    "print(f\"Duración usando numpy.sum(): {tiempo_secuencial}\")\n",
    "print(f\"Resultado suma secuencial: {np.sum(datos)}\\n\")\n",
    "\n",
    "def obtener_segmentos(longitud, procesos):\n",
    "    \"\"\"Divide el arreglo en segmentos según el número de procesos especificado.\"\"\"\n",
    "    if procesos == 1:\n",
    "        return [(0, longitud)]\n",
    "    elif procesos == 2:\n",
    "        mitad = longitud // 2\n",
    "        return [(0, mitad), (mitad, longitud)]\n",
    "    elif procesos == 4:\n",
    "        cuarto = longitud // 4\n",
    "        return [(0, cuarto), (cuarto, 2*cuarto), (2*cuarto, 3*cuarto), (3*cuarto, longitud)]\n",
    "    else:\n",
    "        raise ValueError(\"Número de procesos no soportado. Elija 1, 2 o 4.\")\n",
    "\n",
    "# Uso de multiprocessing\n",
    "for procesos in [1, 2, 4]:\n",
    "    print(f\"\\nTiempo para la suma con {procesos} procesos:\")\n",
    "\n",
    "    segmentos = obtener_segmentos(tamaño_arreglo, procesos)\n",
    "\n",
    "    # Función que ejecuta la suma en paralelo\n",
    "    def ejecutar_suma_paralela():\n",
    "        with Pool(processes=procesos) as pool:\n",
    "            resultados = pool.starmap(suma_parcial, [(datos, inicio, fin) for inicio, fin in segmentos])\n",
    "        return sum(resultados)\n",
    "\n",
    "    tiempo_paralelo = %timeit -r 2 -o -q ejecutar_suma_paralela()\n",
    "    resultado_paralelo = ejecutar_suma_paralela()\n",
    "\n",
    "    print(f\"Duración usando {procesos} procesos: {tiempo_paralelo}\")\n",
    "    print(f\"Resultado suma con {procesos} procesos: {resultado_paralelo}\")"
   ]
  },
  {
   "cell_type": "code",
   "execution_count": null,
   "id": "525ba7c7-8fc4-4081-83e0-f9f3f2422714",
   "metadata": {},
   "outputs": [],
   "source": [
    "librería cupy"
   ]
  },
  {
   "cell_type": "code",
   "execution_count": 2,
   "id": "6c4d7215-f7a8-4f64-be1a-8807fc63e6f7",
   "metadata": {},
   "outputs": [
    {
     "name": "stdout",
     "output_type": "stream",
     "text": [
      "Tiempo usando CuPy: 10386.71 µs\n",
      "Resultado usando CuPy: 25001.306367191675\n"
     ]
    }
   ],
   "source": [
    "import cupy as cp\n",
    "import numpy as np\n",
    "import time\n",
    "\n",
    "tamaño_arreglo = 5 * 10**4\n",
    "datos_cpu = np.random.rand(tamaño_arreglo)\n",
    "\n",
    "datos_gpu = cp.asarray(datos_cpu)\n",
    "\n",
    "inicio_gpu = time.time()\n",
    "resultado_gpu = cp.sum(datos_gpu)\n",
    "fin_gpu = time.time()\n",
    "\n",
    "tiempo_gpu = (fin_gpu - inicio_gpu) * 1e6  \n",
    "\n",
    "print(f\"Tiempo usando CuPy: {tiempo_gpu:.2f} µs\")\n",
    "print(f\"Resultado usando CuPy: {resultado_gpu}\")"
   ]
  },
  {
   "cell_type": "code",
   "execution_count": null,
   "id": "1fa5c27f-20a2-49e9-a90d-1ace9be34145",
   "metadata": {},
   "outputs": [],
   "source": [
    " librería numba"
   ]
  },
  {
   "cell_type": "code",
   "execution_count": 3,
   "id": "0f2b7738-cdb6-4364-842b-2145d332b357",
   "metadata": {},
   "outputs": [
    {
     "name": "stdout",
     "output_type": "stream",
     "text": [
      "Tiempo usando Numba: 0.441472 segundos\n",
      "Resultado usando Numba: 24943.03038160226\n"
     ]
    }
   ],
   "source": [
    "import numba\n",
    "import numpy as np\n",
    "import time\n",
    "\n",
    "tamaño_arreglo = 5 * 10**4\n",
    "datos_cpu = np.random.rand(tamaño_arreglo)\n",
    "\n",
    "@numba.njit(parallel=True)\n",
    "def suma_paralela(arr):\n",
    "    \"\"\"Suma los elementos del arreglo utilizando paralelismo.\"\"\"\n",
    "    total = 0.0\n",
    "    for i in numba.prange(arr.size):\n",
    "        total += arr[i]\n",
    "    return total\n",
    "\n",
    "inicio_numba = time.time()\n",
    "resultado_numba = suma_paralela(datos_cpu)\n",
    "fin_numba = time.time()\n",
    "\n",
    "tiempo_numba = fin_numba - inicio_numba\n",
    "\n",
    "print(f\"Tiempo usando Numba: {tiempo_numba:.6f} segundos\")\n",
    "print(f\"Resultado usando Numba: {resultado_numba}\")"
   ]
  },
  {
   "cell_type": "code",
   "execution_count": null,
   "id": "6f54c681-b8be-4b54-aee4-6bbdb4661424",
   "metadata": {},
   "outputs": [],
   "source": [
    "Suma secuencial con NumPy"
   ]
  },
  {
   "cell_type": "code",
   "execution_count": null,
   "id": "a490d48c-fd54-4f56-9f50-bc2bd4a8bc69",
   "metadata": {},
   "outputs": [],
   "source": []
  }
 ],
 "metadata": {
  "kernelspec": {
   "display_name": "Python 3 (ipykernel)",
   "language": "python",
   "name": "python3"
  },
  "language_info": {
   "codemirror_mode": {
    "name": "ipython",
    "version": 3
   },
   "file_extension": ".py",
   "mimetype": "text/x-python",
   "name": "python",
   "nbconvert_exporter": "python",
   "pygments_lexer": "ipython3",
   "version": "3.8.17"
  }
 },
 "nbformat": 4,
 "nbformat_minor": 5
}
