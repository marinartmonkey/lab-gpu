{
 "cells": [
  {
   "cell_type": "markdown",
   "id": "f942d288-be01-42cd-9b84-83529c6769be",
   "metadata": {},
   "source": [
    "## Reduction operation: the sum of the numbers in the range [0, value)"
   ]
  },
  {
   "cell_type": "code",
   "execution_count": 1,
   "id": "496946fa-2a28-4c1d-8a6a-2ee0b8fd8ced",
   "metadata": {},
   "outputs": [
    {
     "name": "stdout",
     "output_type": "stream",
     "text": [
      "Time taken by reduction operation using a function: 5.41 ms ± 273 µs per loop (mean ± std. dev. of 2 runs, 100 loops each)\n",
      "And the result of the sum of numbers in the range [0, value) is: 25038.001204452554\n",
      "\n",
      "Time taken by reduction operation using numpy.sum(): 13.9 µs ± 24.3 ns per loop (mean ± std. dev. of 2 runs, 100,000 loops each)\n",
      "Now, the result using numpy.sum(): 25038.001204452543 \n",
      " \n",
      "Time taken by reduction operation using numpy.ndarray.sum(): 12 µs ± 26.8 ns per loop (mean ± std. dev. of 2 runs, 100,000 loops each)\n",
      "Now, the result using numpy.ndarray.sum(): 25038.001204452543\n"
     ]
    }
   ],
   "source": [
    "import numpy as np\n",
    "\n",
    "def reduc_operation(A):\n",
    "    \"\"\"Compute the sum of the elements of Array A in the range [0, value).\"\"\"\n",
    "    s = 0\n",
    "    for i in range(A.size):\n",
    "        s += A[i]\n",
    "    return s\n",
    "\n",
    "# Secuencial\n",
    "\n",
    "value = 5*10**4\n",
    "\n",
    "X = np.random.rand(value)\n",
    "\n",
    "# Para imprimir los pimeros valores del array\n",
    "\n",
    "# print(X[0:12])\n",
    "\n",
    "# Utilizando las operaciones mágicas de ipython\n",
    "\n",
    "tiempo = %timeit -r 2 -o -q reduc_operation(X)\n",
    "\n",
    "print(\"Time taken by reduction operation using a function:\", tiempo)\n",
    "\n",
    "\n",
    "print(f\"And the result of the sum of numbers in the range [0, value) is: {reduc_operation(X)}\\n\")\n",
    "\n",
    "\n",
    "# Utilizando numpy.sum()\n",
    "\n",
    "tiempo = %timeit -r 2 -o -q np.sum(X)\n",
    "\n",
    "print(\"Time taken by reduction operation using numpy.sum():\", tiempo)\n",
    "\n",
    "print(\"Now, the result using numpy.sum():\", np.sum(X),\"\\n \")\n",
    "\n",
    "\n",
    "# Utilizando numpy.ndarray.sum()\n",
    "\n",
    "tiempo= %timeit -r 2 -o -q X.sum()\n",
    "\n",
    "print(\"Time taken by reduction operation using numpy.ndarray.sum():\", tiempo)\n",
    "\n",
    "print(\"Now, the result using numpy.ndarray.sum():\", X.sum())"
   ]
  },
  {
   "cell_type": "code",
   "execution_count": null,
   "id": "716f98ed-5a28-416f-b9a8-caf627bff6e2",
   "metadata": {},
   "outputs": [],
   "source": [
    "a) Librería cupy: En la siguiente celda de código del notebook9 vamos a utilizar el paquete cupy para\n",
    "acelerar dicha operación de reducción. Como se ha explicado, la libreria cupy es una librería muy\n",
    "similar a la librería numpy específicamente diseñada para GPUs. De hecho, la mayoría de funciones\n",
    "que hay en numpy tienen el mismo nombre en cupy. Por tanto, de las 2 formas de hacer la suma de\n",
    "los elementos del array, por medio de la función reduc_operation y por medio de la función sum\n",
    "de la librería numpy, vamos a usar únicamente la función sum de la librería cupy.\n",
    "Lo que tienes que hacer es modificar el notebook para crear el array en la GPU (usando las funciones\n",
    "de la librería cupy análogas a las de la librería numpy) y utilizar la función sum para calcular la suma\n",
    "de los elementos del array. Como la GPU ya es paralela, no tienes que paralelizar nada más."
   ]
  },
  {
   "cell_type": "code",
   "execution_count": 2,
   "id": "111c0e71-ea16-4bf1-8711-cc734e09da7c",
   "metadata": {},
   "outputs": [
    {
     "name": "stdout",
     "output_type": "stream",
     "text": [
      "Time taken by reduction operation using a function: 502 ms ± 1.17 ms per loop (mean ± std. dev. of 2 runs, 1 loop each)\n",
      "And the result of the sum of numbers in the range [0, value) is: 24946.204564209584\n",
      "\n",
      "Time taken by reduction operation using cupy.sum(): 17 µs ± 60.2 ns per loop (mean ± std. dev. of 2 runs, 100,000 loops each)\n",
      "Now, the result using cupy.sum(): 24946.2045642094 \n",
      " \n",
      "Time taken by reduction operation using cupy.ndarray.sum(): 16.1 µs ± 6.68 ns per loop (mean ± std. dev. of 2 runs, 100,000 loops each)\n",
      "Now, the result using cupy.ndarray.sum(): 24946.2045642094\n"
     ]
    }
   ],
   "source": [
    "import cupy as cp\n",
    "\n",
    "def reduc_operation(A):\n",
    "    \"\"\"Compute the sum of the elements of Array A in the range [0, value).\"\"\"\n",
    "    s = 0\n",
    "    for i in range(A.size):\n",
    "        s += A[i]\n",
    "    return s\n",
    "\n",
    "# Secuencial\n",
    "\n",
    "value = 5*10**4\n",
    "\n",
    "# Crear el array en la GPU\n",
    "X = cp.random.rand(value)\n",
    "\n",
    "# Para imprimir los primeros valores del array\n",
    "# print(X[0:12])\n",
    "\n",
    "# Utilizando las operaciones mágicas de ipython\n",
    "tiempo = %timeit -r 2 -o -q reduc_operation(X)\n",
    "\n",
    "print(\"Time taken by reduction operation using a function:\", tiempo)\n",
    "print(f\"And the result of the sum of numbers in the range [0, value) is: {reduc_operation(X)}\\n\")\n",
    "\n",
    "# Utilizando cupy.sum() para realizar la suma en la GPU\n",
    "tiempo = %timeit -r 2 -o -q cp.sum(X)\n",
    "\n",
    "print(\"Time taken by reduction operation using cupy.sum():\", tiempo)\n",
    "print(\"Now, the result using cupy.sum():\", cp.sum(X),\"\\n \")\n",
    "\n",
    "# Utilizando cupy.ndarray.sum()\n",
    "tiempo = %timeit -r 2 -o -q X.sum()\n",
    "\n",
    "print(\"Time taken by reduction operation using cupy.ndarray.sum():\", tiempo)\n",
    "print(\"Now, the result using cupy.ndarray.sum():\", X.sum())"
   ]
  },
  {
   "cell_type": "code",
   "execution_count": null,
   "id": "f7f5c0a2-bdca-4a3a-aedf-b8d7c5e230c2",
   "metadata": {},
   "outputs": [],
   "source": [
    "b) Librería Numba: En la siguiente celda de código del notebook10 vamos a utilizar el paquete Numba\n",
    "para acelerar dicha operación de reducción. Como se ha explicado, la libreria Numba te permite crear\n",
    "ufuncs muy similares a las de la librería numpy que se pueden ejecutar en la GPU.\n",
    "Lo que tienes que hacer es crear una ufunc que te permita hacer la reducción del array de forma\n",
    "análoga a las de la librería numpy, y utilizar la función sum para calcular la suma de los elementos\n",
    "del array. Como la GPU ya es paralela, no tienes que paralelizar nada más."
   ]
  },
  {
   "cell_type": "code",
   "execution_count": 3,
   "id": "6b5c12c4-fb51-40bc-badb-79eae487441e",
   "metadata": {},
   "outputs": [
    {
     "name": "stdout",
     "output_type": "stream",
     "text": [
      "Sum of the array using Numba ufunc: 25020.613475582693\n"
     ]
    }
   ],
   "source": [
    "import cupy as cp\n",
    "from numba import cuda\n",
    "\n",
    "# Creación de la ufunc de suma utilizando Numba\n",
    "@cuda.jit\n",
    "def sum_gpu(arr, out):\n",
    "    start = cuda.grid(1)\n",
    "    stride = cuda.gridsize(1)\n",
    "    tmp = 0\n",
    "    for i in range(start, arr.size, stride):\n",
    "        tmp += arr[i]\n",
    "    cuda.atomic.add(out, 0, tmp)\n",
    "\n",
    "# Secuencial\n",
    "\n",
    "value = 5*10**4\n",
    "\n",
    "# Crear el array en la GPU\n",
    "X = cp.random.rand(value)\n",
    "\n",
    "# Crear un array de salida para la suma (lo inicializamos en 0)\n",
    "out = cp.zeros(1, dtype=cp.float64)\n",
    "\n",
    "# Ejecutar la ufunc sum_gpu en la GPU\n",
    "threads_per_block = 128\n",
    "blocks_per_grid = (X.size + (threads_per_block - 1)) // threads_per_block\n",
    "\n",
    "# Llamamos a la ufunc con la cantidad de bloques y hilos adecuados\n",
    "sum_gpu[blocks_per_grid, threads_per_block](X, out)\n",
    "\n",
    "# Ahora out[0] contiene la suma\n",
    "print(f\"Sum of the array using Numba ufunc: {out[0]}\")"
   ]
  },
  {
   "cell_type": "code",
   "execution_count": 6,
   "id": "a5a300b9-f087-4e55-bb56-000dccd9770d",
   "metadata": {},
   "outputs": [
    {
     "name": "stdout",
     "output_type": "stream",
     "text": [
      "Number of elements: 50000\n",
      "Sum of the array using Numba ufunc: 25016.60663032525\n"
     ]
    }
   ],
   "source": [
    "import sys\n",
    "import cupy as cp\n",
    "from numba import cuda\n",
    "\n",
    "# Comprobar si estamos en un entorno de ejecución interactivo (Jupyter) o ejecutando desde la línea de comandos\n",
    "if '__file__' in globals():  # Estamos ejecutando el archivo como un script (por ejemplo, en SLURM)\n",
    "    if len(sys.argv) > 1:\n",
    "        value = int(sys.argv[1])\n",
    "    else:\n",
    "        value = 5 * 10**4  # Valor por defecto si no se pasa ningún argumento\n",
    "else:  # Estamos en un entorno interactivo como Jupyter\n",
    "    value = 5 * 10**4  # Valor por defecto o ajustado manualmente en Jupyter\n",
    "\n",
    "print(f\"Number of elements: {value}\")\n",
    "\n",
    "# Creación de la ufunc de suma utilizando Numba\n",
    "@cuda.jit\n",
    "def sum_gpu(arr, out):\n",
    "    start = cuda.grid(1)\n",
    "    stride = cuda.gridsize(1)\n",
    "    tmp = 0\n",
    "    for i in range(start, arr.size, stride):\n",
    "        tmp += arr[i]\n",
    "    cuda.atomic.add(out, 0, tmp)\n",
    "\n",
    "# Crear el array en la GPU\n",
    "X = cp.random.rand(value)\n",
    "\n",
    "# Crear un array de salida para la suma (lo inicializamos en 0)\n",
    "out = cp.zeros(1, dtype=cp.float64)\n",
    "\n",
    "# Ejecutar la ufunc sum_gpu en la GPU\n",
    "threads_per_block = 128\n",
    "blocks_per_grid = (X.size + (threads_per_block - 1)) // threads_per_block\n",
    "\n",
    "# Llamamos a la ufunc con la cantidad de bloques y hilos adecuados\n",
    "sum_gpu[blocks_per_grid, threads_per_block](X, out)\n",
    "\n",
    "# Ahora out[0] contiene la suma\n",
    "print(f\"Sum of the array using Numba ufunc: {out[0]}\")"
   ]
  },
  {
   "cell_type": "code",
   "execution_count": null,
   "id": "4d0b4ee9-8e70-4a1c-986e-8522fa2569b7",
   "metadata": {},
   "outputs": [],
   "source": [
    "d) Crea una nueva celda de texto debajo de la última celda de código para explicar los resultados\n",
    "obtenidos por los paquetes cupy y Numba usando la GPU."
   ]
  },
  {
   "cell_type": "code",
   "execution_count": null,
   "id": "132ba671-fc68-4b84-b20d-9ec709d1d3a4",
   "metadata": {},
   "outputs": [],
   "source": [
    "1. Operación de Reducción en CPU (Usando numpy y una función personalizada)"
   ]
  },
  {
   "cell_type": "code",
   "execution_count": null,
   "id": "8354affd-f267-40d4-a25a-9aa77edf6ee6",
   "metadata": {},
   "outputs": [],
   "source": [
    "Tiempo de ejecución utilizando la función personalizada: 5.41 ms (± 273 µs)\n",
    "Resultado de la suma: 25038.0012044525\n",
    "Tiempo de ejecución utilizando numpy.sum(): 13.9 µs (± 24.3 ns)\n",
    "Resultado usando numpy.sum(): 25038.001204452543\n",
    "Tiempo de ejecución utilizando numpy.ndarray.sum(): 12 µs (± 26.8 ns)\n",
    "Resultado usando numpy.ndarray.sum(): 25038.001204452543"
   ]
  },
  {
   "cell_type": "code",
   "execution_count": null,
   "id": "a1d14716-efc8-4fef-a4f1-0ab6ca338cf8",
   "metadata": {},
   "outputs": [],
   "source": [
    "La función personalizada de suma (reduc_operation) es más lenta porque no aprovecha las optimizaciones de numpy para operaciones vectorizadas. \n",
    "Utiliza un bucle for en la CPU, lo cual es menos eficiente.\n",
    "Al usar numpy.sum() y numpy.ndarray.sum(), los tiempos de ejecución son significativamente más rápidos, ya que estas funciones están optimizadas \n",
    "internamente para operaciones en masa (vectorizadas)."
   ]
  },
  {
   "cell_type": "code",
   "execution_count": null,
   "id": "4e63e0ec-07fe-4b19-b196-eef4edb2fc6b",
   "metadata": {},
   "outputs": [],
   "source": [
    "2. Operación de Reducción en GPU (Usando cupy)"
   ]
  },
  {
   "cell_type": "code",
   "execution_count": null,
   "id": "bdbe74c9-25bf-4150-97c6-72f0a4dbe33e",
   "metadata": {},
   "outputs": [],
   "source": [
    "Tiempo de ejecución utilizando la función personalizada de reducción: 502 ms (± 1.17 ms)\n",
    "Resultado de la suma: 24946.2045642095\n",
    "Tiempo de ejecución utilizando cupy.sum(): 17 µs (± 60.2 ns)\n",
    "Resultado usando cupy.sum(): 24946.2045642094\n",
    "Tiempo de ejecución utilizando cupy.ndarray.sum(): 16.1 µs (± 6.68 ns)\n",
    "Resultado usando cupy.ndarray.sum(): 24946.2045642094"
   ]
  },
  {
   "cell_type": "code",
   "execution_count": null,
   "id": "d721a181-41e8-4671-8c6c-8a193a813d5e",
   "metadata": {},
   "outputs": [],
   "source": [
    "La función personalizada (reduc_operation) en la GPU es mucho más lenta que las versiones optimizadas de cupy.sum() y cupy.ndarray.sum(). \n",
    "Esto se debe a que la función personalizada no está aprovechando completamente las capacidades paralelas de la GPU. Aunque se ejecuta en la GPU, \n",
    "el código secuencial dentro de un bucle no es eficiente.\n",
    "Las funciones cupy.sum() y cupy.ndarray.sum() están altamente optimizadas para la GPU, lo que resulta en tiempos de ejecución mucho más rápidos, \n",
    "incluso a un tamaño de array de 50,000 elementos."
   ]
  },
  {
   "cell_type": "code",
   "execution_count": null,
   "id": "3878680d-a51a-49c4-9110-4844a9775020",
   "metadata": {},
   "outputs": [],
   "source": [
    "3. Operación de Reducción en GPU (Usando numba)"
   ]
  },
  {
   "cell_type": "code",
   "execution_count": null,
   "id": "62fdff98-9450-4c0e-9127-4b54231ec0fa",
   "metadata": {},
   "outputs": [],
   "source": []
  }
 ],
 "metadata": {
  "kernelspec": {
   "display_name": "Python 3 (ipykernel)",
   "language": "python",
   "name": "python3"
  },
  "language_info": {
   "codemirror_mode": {
    "name": "ipython",
    "version": 3
   },
   "file_extension": ".py",
   "mimetype": "text/x-python",
   "name": "python",
   "nbconvert_exporter": "python",
   "pygments_lexer": "ipython3",
   "version": "3.8.17"
  }
 },
 "nbformat": 4,
 "nbformat_minor": 5
}
