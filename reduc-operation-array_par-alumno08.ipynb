{
 "cells": [
  {
   "cell_type": "markdown",
   "metadata": {},
   "source": [
    "## Reduction operation: the sum of the numbers in the range [0, value)"
   ]
  },
  {
   "cell_type": "code",
   "execution_count": 5,
   "metadata": {},
   "outputs": [
    {
     "name": "stdout",
     "output_type": "stream",
     "text": [
      "Ejecutando en Jupyter Notebook. Usando valor predeterminado.\n",
      "Tamaño del array (value): 50000000\n"
     ]
    }
   ],
   "source": [
    "import sys\n",
    "\n",
    "# Detectar si se está ejecutando en Jupyter Notebook\n",
    "if 'ipykernel' in sys.modules:\n",
    "    print(\"Ejecutando en Jupyter Notebook. Usando valor predeterminado.\")\n",
    "    value = 50_000_000  # Valor predeterminado para Jupyter\n",
    "else:\n",
    "    # Ejecutando desde línea de comandos\n",
    "    try:\n",
    "        if len(sys.argv) > 1:\n",
    "            value = int(sys.argv[1])\n",
    "        else:\n",
    "            value = 50_000_000  # Valor predeterminado\n",
    "    except ValueError:\n",
    "        print(\"Error: El argumento proporcionado no es un número válido.\")\n",
    "        sys.exit(1)\n",
    "\n",
    "print(f\"Tamaño del array (value): {value}\")"
   ]
  },
  {
   "cell_type": "code",
   "execution_count": 1,
   "metadata": {},
   "outputs": [
    {
     "name": "stdout",
     "output_type": "stream",
     "text": [
      "Time taken by reduction operation using a function: 2.62 ms ± 8.27 µs per loop (mean ± std. dev. of 2 runs, 100 loops each)\n",
      "And the result of the sum of numbers in the range [0, value) is: 24995.051343753086\n",
      "\n",
      "Time taken by reduction operation using numpy.sum(): 7.88 µs ± 8.1 ns per loop (mean ± std. dev. of 2 runs, 100,000 loops each)\n",
      "Now, the result using numpy.sum(): 24995.051343752984 \n",
      " \n",
      "Time taken by reduction operation using numpy.ndarray.sum(): 7.14 µs ± 0.478 ns per loop (mean ± std. dev. of 2 runs, 100,000 loops each)\n",
      "Now, the result using numpy.ndarray.sum(): 24995.051343752984\n"
     ]
    }
   ],
   "source": [
    "import numpy as np\n",
    "\n",
    "def reduc_operation(A):\n",
    "    \"\"\"Compute the sum of the elements of Array A in the range [0, value).\"\"\"\n",
    "    s = 0\n",
    "    for i in range(A.size):\n",
    "        s += A[i]\n",
    "    return s\n",
    "\n",
    "# Secuencial\n",
    "\n",
    "value = 5*10**4\n",
    "\n",
    "X = np.random.rand(value)\n",
    "\n",
    "# Para imprimir los pimeros valores del array\n",
    "\n",
    "# print(X[0:12])\n",
    "\n",
    "# Utilizando las operaciones mágicas de ipython\n",
    "\n",
    "tiempo = %timeit -r 2 -o -q reduc_operation(X)\n",
    "\n",
    "print(\"Time taken by reduction operation using a function:\", tiempo)\n",
    "\n",
    "\n",
    "print(f\"And the result of the sum of numbers in the range [0, value) is: {reduc_operation(X)}\\n\")\n",
    "\n",
    "\n",
    "# Utilizando numpy.sum()\n",
    "\n",
    "tiempo = %timeit -r 2 -o -q np.sum(X)\n",
    "\n",
    "print(\"Time taken by reduction operation using numpy.sum():\", tiempo)\n",
    "\n",
    "print(\"Now, the result using numpy.sum():\", np.sum(X),\"\\n \")\n",
    "\n",
    "\n",
    "# Utilizando numpy.ndarray.sum()\n",
    "\n",
    "tiempo= %timeit -r 2 -o -q X.sum()\n",
    "\n",
    "print(\"Time taken by reduction operation using numpy.ndarray.sum():\", tiempo)\n",
    "\n",
    "print(\"Now, the result using numpy.ndarray.sum():\", X.sum())\n",
    "\n",
    "\n"
   ]
  },
  {
   "cell_type": "code",
   "execution_count": 1,
   "metadata": {},
   "outputs": [
    {
     "name": "stdout",
     "output_type": "stream",
     "text": [
      "Resultado paralelo: 25000109.696162842\n"
     ]
    }
   ],
   "source": [
    "import numpy as np\n",
    "from multiprocessing import Pool\n",
    "\n",
    "# Función original\n",
    "def reduc_operation(array):\n",
    "    suma = 0.0\n",
    "    for num in array:\n",
    "        suma += num\n",
    "    return suma\n",
    "\n",
    "# Función paralela usando multiprocessing\n",
    "def parallel_reduc_operation(array, num_procs):\n",
    "    # Dividir el array en fragmentos\n",
    "    chunks = np.array_split(array, num_procs)\n",
    "    \n",
    "    # Crear un pool de procesos\n",
    "    with Pool(processes=num_procs) as pool:\n",
    "        results = pool.map(reduc_operation, chunks)\n",
    "    \n",
    "    # Combinar los resultados parciales\n",
    "    return sum(results)\n",
    "\n",
    "# Crear un array grande para pruebas\n",
    "N = 50_000_000\n",
    "array = np.random.rand(N)\n",
    "\n",
    "# Ejecutar la función paralela\n",
    "num_procs = 4  # Número de procesos\n",
    "result = parallel_reduc_operation(array, num_procs)\n",
    "print(f\"Resultado paralelo: {result}\")"
   ]
  },
  {
   "cell_type": "code",
   "execution_count": 2,
   "metadata": {},
   "outputs": [
    {
     "name": "stdout",
     "output_type": "stream",
     "text": [
      "Resultado Numba: 25000109.696159493\n",
      "Tiempo con Numba: 1.57 segundos\n",
      "Resultado Numba Paralelo: 25000109.696163636\n",
      "Tiempo con Numba Paralelo: 15.48 segundos\n"
     ]
    }
   ],
   "source": [
    "from numba import njit, prange\n",
    "import time\n",
    "\n",
    "# Optimización con Numba\n",
    "@njit\n",
    "def reduc_operation_numba(array):\n",
    "    suma = 0.0\n",
    "    for num in array:\n",
    "        suma += num\n",
    "    return suma\n",
    "\n",
    "# Paralelismo con Numba\n",
    "@njit(parallel=True)\n",
    "def parallel_reduc_operation_numba(array):\n",
    "    suma = 0.0\n",
    "    for i in prange(len(array)):\n",
    "        suma += array[i]\n",
    "    return suma\n",
    "\n",
    "# Medir tiempo con reduc_operation_numba\n",
    "start_time = time.time()\n",
    "result_numba = reduc_operation_numba(array)\n",
    "end_time = time.time()\n",
    "print(f\"Resultado Numba: {result_numba}\")\n",
    "print(f\"Tiempo con Numba: {end_time - start_time:.2f} segundos\")\n",
    "\n",
    "# Medir tiempo con parallel_reduc_operation_numba\n",
    "start_time = time.time()\n",
    "result_parallel_numba = parallel_reduc_operation_numba(array)\n",
    "end_time = time.time()\n",
    "print(f\"Resultado Numba Paralelo: {result_parallel_numba}\")\n",
    "print(f\"Tiempo con Numba Paralelo: {end_time - start_time:.2f} segundos\")"
   ]
  },
  {
   "cell_type": "code",
   "execution_count": null,
   "metadata": {},
   "outputs": [],
   "source": [
    "a) Librería multiprocessing:"
   ]
  },
  {
   "cell_type": "code",
   "execution_count": 3,
   "metadata": {},
   "outputs": [
    {
     "name": "stdout",
     "output_type": "stream",
     "text": [
      "Resultado con 1 procesos: 25001634.986487128\n",
      "Tiempo tomado con 1 procesos: 73.47 segundos\n",
      "\n",
      "Resultado con 2 procesos: 25001634.986488536\n",
      "Tiempo tomado con 2 procesos: 38.95 segundos\n",
      "\n",
      "Resultado con 4 procesos: 25001634.986487955\n",
      "Tiempo tomado con 4 procesos: 19.89 segundos\n",
      "\n"
     ]
    }
   ],
   "source": [
    "import numpy as np\n",
    "from multiprocessing import Pool\n",
    "import time\n",
    "\n",
    "# Función original\n",
    "def reduc_operation(array):\n",
    "    \"\"\"Compute the sum of the elements in the array.\"\"\"\n",
    "    suma = 0.0\n",
    "    for num in array:\n",
    "        suma += num\n",
    "    return suma\n",
    "\n",
    "# Crear un array grande para pruebas\n",
    "value = 50_000_000  # Tamaño del array\n",
    "array = np.random.rand(value)  # Array con valores aleatorios en (0,1)\n",
    "\n",
    "# Función para dividir el array y calcular en paralelo\n",
    "def parallel_reduc_operation(array, num_procs):\n",
    "    \"\"\"Dividir el array en partes iguales y calcular la suma en paralelo.\"\"\"\n",
    "    chunks = np.array_split(array, num_procs)\n",
    "    with Pool(processes=num_procs) as pool:\n",
    "        results = pool.map(reduc_operation, chunks)\n",
    "    return sum(results)\n",
    "\n",
    "# Calcular tiempos para diferentes números de procesos\n",
    "for num_procs in [1, 2, 4]:\n",
    "    start_time = time.time()\n",
    "    result = parallel_reduc_operation(array, num_procs)\n",
    "    end_time = time.time()\n",
    "    print(f\"Resultado con {num_procs} procesos: {result}\")\n",
    "    print(f\"Tiempo tomado con {num_procs} procesos: {end_time - start_time:.2f} segundos\\n\")"
   ]
  },
  {
   "cell_type": "code",
   "execution_count": null,
   "metadata": {},
   "outputs": [],
   "source": [
    "b) Libreria Numba:"
   ]
  },
  {
   "cell_type": "code",
   "execution_count": 4,
   "metadata": {},
   "outputs": [
    {
     "name": "stdout",
     "output_type": "stream",
     "text": [
      "Resultado con reduc_operation_numba: 25002952.04017637\n",
      "Tiempo tomado con reduc_operation_numba: 0.68 segundos\n",
      "\n",
      "Resultado con reduc_operation_numba_parallel: 25002952.040175498\n",
      "Tiempo tomado con reduc_operation_numba_parallel: 15.49 segundos\n",
      "\n"
     ]
    }
   ],
   "source": [
    "from numba import njit, prange\n",
    "import time\n",
    "\n",
    "# Función original optimizada con Numba\n",
    "@njit\n",
    "def reduc_operation_numba(array):\n",
    "    \"\"\"Compute the sum of the elements in the array using Numba.\"\"\"\n",
    "    suma = 0.0\n",
    "    for num in array:\n",
    "        suma += num\n",
    "    return suma\n",
    "\n",
    "# Función paralela optimizada con Numba\n",
    "@njit(parallel=True)\n",
    "def reduc_operation_numba_parallel(array):\n",
    "    \"\"\"Compute the sum of the elements in the array using Numba with parallel processing.\"\"\"\n",
    "    suma = 0.0\n",
    "    for i in prange(len(array)):\n",
    "        suma += array[i]\n",
    "    return suma\n",
    "\n",
    "# Crear un array grande para pruebas\n",
    "value = 50_000_000  # Tamaño del array\n",
    "array = np.random.rand(value)  # Array con valores aleatorios en (0,1)\n",
    "\n",
    "# Medir tiempo para reduc_operation_numba\n",
    "start_time = time.time()\n",
    "result_numba = reduc_operation_numba(array)\n",
    "end_time = time.time()\n",
    "print(f\"Resultado con reduc_operation_numba: {result_numba}\")\n",
    "print(f\"Tiempo tomado con reduc_operation_numba: {end_time - start_time:.2f} segundos\\n\")\n",
    "\n",
    "# Medir tiempo para reduc_operation_numba_parallel\n",
    "start_time = time.time()\n",
    "result_numba_parallel = reduc_operation_numba_parallel(array)\n",
    "end_time = time.time()\n",
    "print(f\"Resultado con reduc_operation_numba_parallel: {result_numba_parallel}\")\n",
    "print(f\"Tiempo tomado con reduc_operation_numba_parallel: {end_time - start_time:.2f} segundos\\n\")"
   ]
  },
  {
   "cell_type": "code",
   "execution_count": null,
   "metadata": {},
   "outputs": [],
   "source": [
    "d) Resultados"
   ]
  },
  {
   "cell_type": "code",
   "execution_count": null,
   "metadata": {},
   "outputs": [],
   "source": [
    "1. Operación de Reducción con reduc_operation:\n",
    "\n",
    "Tiempo de ejecución: 2.62 ms ± 8.27 µs (promedio de 100 ejecuciones).\n",
    "Resultado de la suma: 24995.051343753086.\n",
    "Esta función implementada de manera secuencial muestra un tiempo significativamente mayor comparado con las \n",
    "optimizaciones basadas en librerías más eficientes. Esto se debe al bucle explícito y a la naturaleza interpretada de Python"
   ]
  },
  {
   "cell_type": "code",
   "execution_count": null,
   "metadata": {},
   "outputs": [],
   "source": [
    "2. Uso de numpy.sum():\n",
    "\n",
    "Tiempo de ejecución: 7.88 µs ± 8.1 ns.\n",
    "Resultado de la suma: 24995.051343752984.\n",
    "Al utilizar numpy.sum, el tiempo de ejecución se reduce drásticamente. Esto se debe a que Numpy utiliza\n",
    "implementaciones altamente optimizadas en C, lo que elimina la sobrecarga de la interpretación de Python"
   ]
  },
  {
   "cell_type": "code",
   "execution_count": null,
   "metadata": {},
   "outputs": [],
   "source": [
    "3. Uso de numpy.ndarray.sum():\n",
    "\n",
    "Tiempo de ejecución: 7.14 µs ± 0.478 ns.\n",
    "Resultado de la suma: 24995.051343752984.\n",
    "Este método interno de Numpy es igualmente eficiente que numpy.sum(), ya que ambas funciones están implementadas \n",
    "de forma nativa en bajo nivel."
   ]
  },
  {
   "cell_type": "code",
   "execution_count": null,
   "metadata": {},
   "outputs": [],
   "source": [
    "4. Paralelismo con multiprocessing:\n",
    "\n",
    "Con 1 proceso: 73.47 segundos, resultado: 25001634.986487128.\n",
    "Con 2 procesos: 38.95 segundos, resultado: 25001634.986488536.\n",
    "Con 4 procesos: 19.89 segundos, resultado: 25001634.986487955.\n",
    "Comentario: La implementación paralela muestra una reducción notable en el tiempo de ejecución a medida que aumenta el número \n",
    "de procesos. Sin embargo, la ganancia en tiempo no es lineal debido a la sobrecarga asociada con la creación y coordinación \n",
    "de procesos."
   ]
  },
  {
   "cell_type": "code",
   "execution_count": null,
   "metadata": {},
   "outputs": [],
   "source": [
    "5. Optimización con Numba:\n",
    "\n",
    "Versión secuencial (@njit): 0.68 segundos, resultado: 25002952.04017637.\n",
    "Versión paralela (@njit(parallel=True)): 15.49 segundos, resultado: 25002952.040175498.\n",
    "El decorador @njit logra una mejora significativa en el tiempo de ejecución al compilar el código en tiempo de ejecución. \n",
    "Sin embargo, la versión paralela presenta un tiempo mayor que la secuencial, probablemente debido a la sobrecarga en la gestión \n",
    "de hilos en un entorno compartido o a un uso ineficiente de los recursos disponibles."
   ]
  }
 ],
 "metadata": {
  "kernelspec": {
   "display_name": "Python 3",
   "language": "python",
   "name": "python3"
  },
  "language_info": {
   "codemirror_mode": {
    "name": "ipython",
    "version": 3
   },
   "file_extension": ".py",
   "mimetype": "text/x-python",
   "name": "python",
   "nbconvert_exporter": "python",
   "pygments_lexer": "ipython3",
   "version": "3.8.5"
  }
 },
 "nbformat": 4,
 "nbformat_minor": 5
}
